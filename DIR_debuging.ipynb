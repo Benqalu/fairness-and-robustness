{
 "cells": [
  {
   "cell_type": "code",
   "execution_count": 1,
   "metadata": {},
   "outputs": [
    {
     "name": "stderr",
     "output_type": "stream",
     "text": [
      "/Users/haipei/.pyenv/versions/anaconda3-2020.11/lib/python3.7/site-packages/tensorflow/python/framework/dtypes.py:516: FutureWarning: Passing (type, 1) or '1type' as a synonym of type is deprecated; in a future version of numpy, it will be understood as (type, (1,)) / '(1,)type'.\n",
      "  _np_qint8 = np.dtype([(\"qint8\", np.int8, 1)])\n",
      "/Users/haipei/.pyenv/versions/anaconda3-2020.11/lib/python3.7/site-packages/tensorflow/python/framework/dtypes.py:517: FutureWarning: Passing (type, 1) or '1type' as a synonym of type is deprecated; in a future version of numpy, it will be understood as (type, (1,)) / '(1,)type'.\n",
      "  _np_quint8 = np.dtype([(\"quint8\", np.uint8, 1)])\n",
      "/Users/haipei/.pyenv/versions/anaconda3-2020.11/lib/python3.7/site-packages/tensorflow/python/framework/dtypes.py:518: FutureWarning: Passing (type, 1) or '1type' as a synonym of type is deprecated; in a future version of numpy, it will be understood as (type, (1,)) / '(1,)type'.\n",
      "  _np_qint16 = np.dtype([(\"qint16\", np.int16, 1)])\n",
      "/Users/haipei/.pyenv/versions/anaconda3-2020.11/lib/python3.7/site-packages/tensorflow/python/framework/dtypes.py:519: FutureWarning: Passing (type, 1) or '1type' as a synonym of type is deprecated; in a future version of numpy, it will be understood as (type, (1,)) / '(1,)type'.\n",
      "  _np_quint16 = np.dtype([(\"quint16\", np.uint16, 1)])\n",
      "/Users/haipei/.pyenv/versions/anaconda3-2020.11/lib/python3.7/site-packages/tensorflow/python/framework/dtypes.py:520: FutureWarning: Passing (type, 1) or '1type' as a synonym of type is deprecated; in a future version of numpy, it will be understood as (type, (1,)) / '(1,)type'.\n",
      "  _np_qint32 = np.dtype([(\"qint32\", np.int32, 1)])\n",
      "/Users/haipei/.pyenv/versions/anaconda3-2020.11/lib/python3.7/site-packages/tensorflow/python/framework/dtypes.py:525: FutureWarning: Passing (type, 1) or '1type' as a synonym of type is deprecated; in a future version of numpy, it will be understood as (type, (1,)) / '(1,)type'.\n",
      "  np_resource = np.dtype([(\"resource\", np.ubyte, 1)])\n",
      "/Users/haipei/.pyenv/versions/anaconda3-2020.11/lib/python3.7/site-packages/tensorboard/compat/tensorflow_stub/dtypes.py:541: FutureWarning: Passing (type, 1) or '1type' as a synonym of type is deprecated; in a future version of numpy, it will be understood as (type, (1,)) / '(1,)type'.\n",
      "  _np_qint8 = np.dtype([(\"qint8\", np.int8, 1)])\n",
      "/Users/haipei/.pyenv/versions/anaconda3-2020.11/lib/python3.7/site-packages/tensorboard/compat/tensorflow_stub/dtypes.py:542: FutureWarning: Passing (type, 1) or '1type' as a synonym of type is deprecated; in a future version of numpy, it will be understood as (type, (1,)) / '(1,)type'.\n",
      "  _np_quint8 = np.dtype([(\"quint8\", np.uint8, 1)])\n",
      "/Users/haipei/.pyenv/versions/anaconda3-2020.11/lib/python3.7/site-packages/tensorboard/compat/tensorflow_stub/dtypes.py:543: FutureWarning: Passing (type, 1) or '1type' as a synonym of type is deprecated; in a future version of numpy, it will be understood as (type, (1,)) / '(1,)type'.\n",
      "  _np_qint16 = np.dtype([(\"qint16\", np.int16, 1)])\n",
      "/Users/haipei/.pyenv/versions/anaconda3-2020.11/lib/python3.7/site-packages/tensorboard/compat/tensorflow_stub/dtypes.py:544: FutureWarning: Passing (type, 1) or '1type' as a synonym of type is deprecated; in a future version of numpy, it will be understood as (type, (1,)) / '(1,)type'.\n",
      "  _np_quint16 = np.dtype([(\"quint16\", np.uint16, 1)])\n",
      "/Users/haipei/.pyenv/versions/anaconda3-2020.11/lib/python3.7/site-packages/tensorboard/compat/tensorflow_stub/dtypes.py:545: FutureWarning: Passing (type, 1) or '1type' as a synonym of type is deprecated; in a future version of numpy, it will be understood as (type, (1,)) / '(1,)type'.\n",
      "  _np_qint32 = np.dtype([(\"qint32\", np.int32, 1)])\n",
      "/Users/haipei/.pyenv/versions/anaconda3-2020.11/lib/python3.7/site-packages/tensorboard/compat/tensorflow_stub/dtypes.py:550: FutureWarning: Passing (type, 1) or '1type' as a synonym of type is deprecated; in a future version of numpy, it will be understood as (type, (1,)) / '(1,)type'.\n",
      "  np_resource = np.dtype([(\"resource\", np.ubyte, 1)])\n"
     ]
    }
   ],
   "source": [
    "import gzip, pickle\n",
    "from aif360.algorithms.preprocessing import DisparateImpactRemover\n",
    "from ExistingCombosFnR import load_data, get_Xsy\n",
    "from aif360.datasets import AdultDataset\n",
    "from sklearn.preprocessing import MinMaxScaler"
   ]
  },
  {
   "cell_type": "code",
   "execution_count": 2,
   "metadata": {},
   "outputs": [],
   "source": [
    "# train, test, privileged_groups, unprivileged_groups = load_data('adult','sex')\n",
    "protected = 'sex'\n",
    "ad = AdultDataset(protected_attribute_names=[protected],\n",
    "    privileged_classes=[['Male']], categorical_features=[],\n",
    "    features_to_keep=['age', 'education-num', 'capital-gain', 'capital-loss', 'hours-per-week'])\n",
    "scaler = MinMaxScaler(copy=False)\n",
    "test, train = ad.split([16281])\n",
    "train.features = scaler.fit_transform(train.features)\n",
    "test.features = scaler.fit_transform(test.features)"
   ]
  },
  {
   "cell_type": "code",
   "execution_count": 3,
   "metadata": {},
   "outputs": [],
   "source": [
    "from aif360.algorithms.preprocessing import DisparateImpactRemover\n",
    "di = DisparateImpactRemover(repair_level=1.0)"
   ]
  },
  {
   "cell_type": "code",
   "execution_count": 4,
   "metadata": {},
   "outputs": [],
   "source": [
    "train_tred = di.fit_transform(train)\n",
    "test_tred = di.fit_transform(test)"
   ]
  },
  {
   "cell_type": "code",
   "execution_count": 5,
   "metadata": {},
   "outputs": [],
   "source": [
    "X_, s_, y_, weight_ = get_Xsy(train_tred, attr='sex')\n",
    "X, s, y, weight_ = get_Xsy(train, attr='sex')"
   ]
  },
  {
   "cell_type": "code",
   "execution_count": 8,
   "metadata": {},
   "outputs": [
    {
     "data": {
      "text/plain": [
       "array([[0.30136986, 0.8       , 0.02174022, 0.        , 0.40816327],\n",
       "       [0.45205479, 0.8       , 0.        , 0.        , 0.12244898],\n",
       "       [0.28767123, 0.53333333, 0.        , 0.        , 0.40816327],\n",
       "       [0.49315068, 0.4       , 0.        , 0.        , 0.40816327],\n",
       "       [0.15068493, 0.8       , 0.        , 0.        , 0.47959184],\n",
       "       [0.2739726 , 0.86666667, 0.        , 0.        , 0.47959184],\n",
       "       [0.43835616, 0.26666667, 0.        , 0.        , 0.18367347],\n",
       "       [0.47945205, 0.53333333, 0.        , 0.        , 0.44897959],\n",
       "       [0.19178082, 0.86666667, 0.14084141, 0.        , 0.60204082],\n",
       "       [0.34246575, 0.8       , 0.05178052, 0.        , 0.40816327]])"
      ]
     },
     "execution_count": 8,
     "metadata": {},
     "output_type": "execute_result"
    }
   ],
   "source": [
    "X_[:10]"
   ]
  },
  {
   "cell_type": "code",
   "execution_count": 9,
   "metadata": {},
   "outputs": [
    {
     "data": {
      "text/plain": [
       "array([[0.30136986, 0.8       , 0.02174022, 0.        , 0.39795918],\n",
       "       [0.45205479, 0.8       , 0.        , 0.        , 0.12244898],\n",
       "       [0.28767123, 0.53333333, 0.        , 0.        , 0.39795918],\n",
       "       [0.49315068, 0.4       , 0.        , 0.        , 0.39795918],\n",
       "       [0.15068493, 0.8       , 0.        , 0.        , 0.39795918],\n",
       "       [0.2739726 , 0.86666667, 0.        , 0.        , 0.39795918],\n",
       "       [0.43835616, 0.26666667, 0.        , 0.        , 0.15306122],\n",
       "       [0.47945205, 0.53333333, 0.        , 0.        , 0.44897959],\n",
       "       [0.19178082, 0.86666667, 0.14084141, 0.        , 0.5       ],\n",
       "       [0.34246575, 0.8       , 0.05178052, 0.        , 0.39795918]])"
      ]
     },
     "execution_count": 9,
     "metadata": {},
     "output_type": "execute_result"
    }
   ],
   "source": [
    "X[:10]"
   ]
  },
  {
   "cell_type": "code",
   "execution_count": 53,
   "metadata": {},
   "outputs": [],
   "source": [
    "from sklearn.linear_model import LogisticRegression\n",
    "from metric import Metric\n",
    "model = LogisticRegression(max_iter=1000)"
   ]
  },
  {
   "cell_type": "code",
   "execution_count": 54,
   "metadata": {},
   "outputs": [
    {
     "name": "stdout",
     "output_type": "stream",
     "text": [
      "0.8093424649120113 -0.049395762907462046\n"
     ]
    }
   ],
   "source": [
    "model.fit(X_,y_)\n",
    "y_pred_ = model.predict(X_)\n",
    "metric = Metric(true=y_,pred=y_pred_)\n",
    "print(metric.accuracy(), metric.positive_disparity(s=s_, absolute=False))"
   ]
  },
  {
   "cell_type": "code",
   "execution_count": 55,
   "metadata": {},
   "outputs": [
    {
     "name": "stdout",
     "output_type": "stream",
     "text": [
      "0.8119836614354596 -0.08158519240448524\n"
     ]
    }
   ],
   "source": [
    "model.fit(X,y)\n",
    "y_pred = model.predict(X)\n",
    "metric = Metric(true=y,pred=y_pred)\n",
    "print(metric.accuracy(), metric.positive_disparity(s=s, absolute=False))"
   ]
  },
  {
   "cell_type": "code",
   "execution_count": null,
   "metadata": {},
   "outputs": [],
   "source": []
  }
 ],
 "metadata": {
  "kernelspec": {
   "display_name": "Python 3",
   "language": "python",
   "name": "python3"
  },
  "language_info": {
   "codemirror_mode": {
    "name": "ipython",
    "version": 3
   },
   "file_extension": ".py",
   "mimetype": "text/x-python",
   "name": "python",
   "nbconvert_exporter": "python",
   "pygments_lexer": "ipython3",
   "version": "3.7.9"
  }
 },
 "nbformat": 4,
 "nbformat_minor": 4
}
