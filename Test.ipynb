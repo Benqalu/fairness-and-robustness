{
 "cells": [
  {
   "cell_type": "markdown",
   "id": "comparable-allergy",
   "metadata": {},
   "source": [
    "import pandas as pd\n",
    "df=pd.read_csv('PreProc_Flip_Rule_SP.csv')"
   ]
  },
  {
   "cell_type": "code",
   "execution_count": 28,
   "id": "available-disco",
   "metadata": {},
   "outputs": [
    {
     "data": {
      "text/html": [
       "<div>\n",
       "<style scoped>\n",
       "    .dataframe tbody tr th:only-of-type {\n",
       "        vertical-align: middle;\n",
       "    }\n",
       "\n",
       "    .dataframe tbody tr th {\n",
       "        vertical-align: top;\n",
       "    }\n",
       "\n",
       "    .dataframe thead th {\n",
       "        text-align: right;\n",
       "    }\n",
       "</style>\n",
       "<table border=\"1\" class=\"dataframe\">\n",
       "  <thead>\n",
       "    <tr style=\"text-align: right;\">\n",
       "      <th></th>\n",
       "      <th>Disparity $d$</th>\n",
       "      <th>S.Attr. $s_i$</th>\n",
       "      <th>Pred. $\\hat{y}_{i}$</th>\n",
       "      <th>Flip $y_i$?</th>\n",
       "    </tr>\n",
       "  </thead>\n",
       "  <tbody>\n",
       "    <tr>\n",
       "      <th>0</th>\n",
       "      <td>d&gt;0</td>\n",
       "      <td>$s_i$=0</td>\n",
       "      <td>$\\hat{y}_i$&lt;0.5</td>\n",
       "      <td>N</td>\n",
       "    </tr>\n",
       "    <tr>\n",
       "      <th>1</th>\n",
       "      <td>d&gt;0</td>\n",
       "      <td>$s_i$=0</td>\n",
       "      <td>$\\hat{y}_i$&gt;0.5</td>\n",
       "      <td>Y</td>\n",
       "    </tr>\n",
       "    <tr>\n",
       "      <th>2</th>\n",
       "      <td>d&gt;0</td>\n",
       "      <td>$s_i$=1</td>\n",
       "      <td>$\\hat{y}_i$&lt;0.5</td>\n",
       "      <td>Y</td>\n",
       "    </tr>\n",
       "    <tr>\n",
       "      <th>3</th>\n",
       "      <td>d&gt;0</td>\n",
       "      <td>$s_i$=1</td>\n",
       "      <td>$\\hat{y}_i$&gt;0.5</td>\n",
       "      <td>N</td>\n",
       "    </tr>\n",
       "    <tr>\n",
       "      <th>4</th>\n",
       "      <td>d&lt;0</td>\n",
       "      <td>$s_i$=0</td>\n",
       "      <td>$\\hat{y}_i$&lt;0.5</td>\n",
       "      <td>Y</td>\n",
       "    </tr>\n",
       "    <tr>\n",
       "      <th>5</th>\n",
       "      <td>d&lt;0</td>\n",
       "      <td>$s_i$=0</td>\n",
       "      <td>$\\hat{y}_i$&gt;0.5</td>\n",
       "      <td>N</td>\n",
       "    </tr>\n",
       "    <tr>\n",
       "      <th>6</th>\n",
       "      <td>d&lt;0</td>\n",
       "      <td>$s_i$=1</td>\n",
       "      <td>$\\hat{y}_i$&lt;0.5</td>\n",
       "      <td>N</td>\n",
       "    </tr>\n",
       "    <tr>\n",
       "      <th>7</th>\n",
       "      <td>d&lt;0</td>\n",
       "      <td>$s_i$=1</td>\n",
       "      <td>$\\hat{y}_i$&gt;0.5</td>\n",
       "      <td>Y</td>\n",
       "    </tr>\n",
       "  </tbody>\n",
       "</table>\n",
       "</div>"
      ],
      "text/plain": [
       "  Disparity $d$ S.Attr. $s_i$ Pred. $\\hat{y}_{i}$  Flip $y_i$?\n",
       "0           d>0       $s_i$=0     $\\hat{y}_i$<0.5            N\n",
       "1           d>0       $s_i$=0     $\\hat{y}_i$>0.5            Y\n",
       "2           d>0       $s_i$=1     $\\hat{y}_i$<0.5            Y\n",
       "3           d>0       $s_i$=1     $\\hat{y}_i$>0.5            N\n",
       "4           d<0       $s_i$=0     $\\hat{y}_i$<0.5            Y\n",
       "5           d<0       $s_i$=0     $\\hat{y}_i$>0.5            N\n",
       "6           d<0       $s_i$=1     $\\hat{y}_i$<0.5            N\n",
       "7           d<0       $s_i$=1     $\\hat{y}_i$>0.5            Y"
      ]
     },
     "execution_count": 28,
     "metadata": {},
     "output_type": "execute_result"
    }
   ],
   "source": [
    "df"
   ]
  },
  {
   "cell_type": "markdown",
   "id": "quantitative-spare",
   "metadata": {},
   "source": []
  },
  {
   "cell_type": "code",
   "execution_count": null,
   "id": "prerequisite-heating",
   "metadata": {},
   "outputs": [],
   "source": []
  }
 ],
 "metadata": {
  "kernelspec": {
   "display_name": "Python 3",
   "language": "python",
   "name": "python3"
  },
  "language_info": {
   "codemirror_mode": {
    "name": "ipython",
    "version": 3
   },
   "file_extension": ".py",
   "mimetype": "text/x-python",
   "name": "python",
   "nbconvert_exporter": "python",
   "pygments_lexer": "ipython3",
   "version": "3.9.1"
  }
 },
 "nbformat": 4,
 "nbformat_minor": 5
}
