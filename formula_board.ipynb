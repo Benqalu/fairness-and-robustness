{
 "cells": [
  {
   "cell_type": "code",
   "execution_count": 2,
   "metadata": {},
   "outputs": [],
   "source": [
    "import sympy as sp\n",
    "import numpy as np\n",
    "from math import exp\n",
    "\n",
    "def sigmoid(x):\n",
    "\treturn 1.0/(1.0+sp.exp(-x))\n",
    "\n",
    "n=2\n",
    "m=4"
   ]
  },
  {
   "cell_type": "code",
   "execution_count": 62,
   "metadata": {},
   "outputs": [],
   "source": [
    "x=[[sp.Symbol('x_{%d,%d}'%(i,j)) for j in range(0,m)] for i in range(0,n)]\n",
    "y=[sp.Symbol(f'y_{i}') for i in range(0,n)]\n",
    "w=[sp.Symbol(f'w_{j}') for j in range(0,m)]"
   ]
  },
  {
   "cell_type": "code",
   "execution_count": 63,
   "metadata": {},
   "outputs": [],
   "source": [
    "c=[sp.Symbol(f'c_{i}') for i in range(0,n)]"
   ]
  },
  {
   "cell_type": "code",
   "execution_count": 64,
   "metadata": {},
   "outputs": [],
   "source": [
    "P=sum([c[i]*sigmoid(np.dot(w,x[i])) for i in range(0,n)])**2"
   ]
  },
  {
   "cell_type": "code",
   "execution_count": 65,
   "metadata": {},
   "outputs": [
    {
     "data": {
      "text/latex": [
       "$\\displaystyle \\left(\\frac{1.0 c_{0}}{e^{- w_{0} x_{0,0} - w_{1} x_{0,1} - w_{2} x_{0,2} - w_{3} x_{0,3}} + 1.0} + \\frac{1.0 c_{1}}{e^{- w_{0} x_{1,0} - w_{1} x_{1,1} - w_{2} x_{1,2} - w_{3} x_{1,3}} + 1.0}\\right)^{2}$"
      ],
      "text/plain": [
       "(1.0*c_0/(exp(-w_0*x_{0,0} - w_1*x_{0,1} - w_2*x_{0,2} - w_3*x_{0,3}) + 1.0) + 1.0*c_1/(exp(-w_0*x_{1,0} - w_1*x_{1,1} - w_2*x_{1,2} - w_3*x_{1,3}) + 1.0))**2"
      ]
     },
     "execution_count": 65,
     "metadata": {},
     "output_type": "execute_result"
    }
   ],
   "source": [
    "P"
   ]
  },
  {
   "cell_type": "code",
   "execution_count": 66,
   "metadata": {},
   "outputs": [
    {
     "data": {
      "text/latex": [
       "$\\displaystyle \\left(\\frac{1.0 c_{0}}{e^{- w_{0} x_{0,0} - w_{1} x_{0,1} - w_{2} x_{0,2} - w_{3} x_{0,3}} + 1.0} + \\frac{1.0 c_{1}}{e^{- w_{0} x_{1,0} - w_{1} x_{1,1} - w_{2} x_{1,2} - w_{3} x_{1,3}} + 1.0}\\right) \\left(\\frac{2.0 c_{0} x_{0,0} e^{- w_{0} x_{0,0} - w_{1} x_{0,1} - w_{2} x_{0,2} - w_{3} x_{0,3}}}{\\left(e^{- w_{0} x_{0,0} - w_{1} x_{0,1} - w_{2} x_{0,2} - w_{3} x_{0,3}} + 1.0\\right)^{2}} + \\frac{2.0 c_{1} x_{1,0} e^{- w_{0} x_{1,0} - w_{1} x_{1,1} - w_{2} x_{1,2} - w_{3} x_{1,3}}}{\\left(e^{- w_{0} x_{1,0} - w_{1} x_{1,1} - w_{2} x_{1,2} - w_{3} x_{1,3}} + 1.0\\right)^{2}}\\right)$"
      ],
      "text/plain": [
       "(1.0*c_0/(exp(-w_0*x_{0,0} - w_1*x_{0,1} - w_2*x_{0,2} - w_3*x_{0,3}) + 1.0) + 1.0*c_1/(exp(-w_0*x_{1,0} - w_1*x_{1,1} - w_2*x_{1,2} - w_3*x_{1,3}) + 1.0))*(2.0*c_0*x_{0,0}*exp(-w_0*x_{0,0} - w_1*x_{0,1} - w_2*x_{0,2} - w_3*x_{0,3})/(exp(-w_0*x_{0,0} - w_1*x_{0,1} - w_2*x_{0,2} - w_3*x_{0,3}) + 1.0)**2 + 2.0*c_1*x_{1,0}*exp(-w_0*x_{1,0} - w_1*x_{1,1} - w_2*x_{1,2} - w_3*x_{1,3})/(exp(-w_0*x_{1,0} - w_1*x_{1,1} - w_2*x_{1,2} - w_3*x_{1,3}) + 1.0)**2)"
      ]
     },
     "execution_count": 66,
     "metadata": {},
     "output_type": "execute_result"
    }
   ],
   "source": [
    "sp.diff(P,w[0])"
   ]
  },
  {
   "cell_type": "code",
   "execution_count": 69,
   "metadata": {},
   "outputs": [],
   "source": [
    "z=sp.diff(sp.diff(P,w[3]),w[2])"
   ]
  },
  {
   "cell_type": "code",
   "execution_count": 70,
   "metadata": {},
   "outputs": [
    {
     "data": {
      "text/latex": [
       "$\\displaystyle \\left(\\frac{1.0 c_{0}}{e^{- w_{0} x_{0,0} - w_{1} x_{0,1} - w_{2} x_{0,2} - w_{3} x_{0,3}} + 1.0} + \\frac{1.0 c_{1}}{e^{- w_{0} x_{1,0} - w_{1} x_{1,1} - w_{2} x_{1,2} - w_{3} x_{1,3}} + 1.0}\\right) \\left(- \\frac{2.0 c_{0} x_{0,2} x_{0,3} e^{- w_{0} x_{0,0} - w_{1} x_{0,1} - w_{2} x_{0,2} - w_{3} x_{0,3}}}{\\left(e^{- w_{0} x_{0,0} - w_{1} x_{0,1} - w_{2} x_{0,2} - w_{3} x_{0,3}} + 1.0\\right)^{2}} + \\frac{4.0 c_{0} x_{0,2} x_{0,3} e^{- 2 w_{0} x_{0,0} - 2 w_{1} x_{0,1} - 2 w_{2} x_{0,2} - 2 w_{3} x_{0,3}}}{\\left(e^{- w_{0} x_{0,0} - w_{1} x_{0,1} - w_{2} x_{0,2} - w_{3} x_{0,3}} + 1.0\\right)^{3}} - \\frac{2.0 c_{1} x_{1,2} x_{1,3} e^{- w_{0} x_{1,0} - w_{1} x_{1,1} - w_{2} x_{1,2} - w_{3} x_{1,3}}}{\\left(e^{- w_{0} x_{1,0} - w_{1} x_{1,1} - w_{2} x_{1,2} - w_{3} x_{1,3}} + 1.0\\right)^{2}} + \\frac{4.0 c_{1} x_{1,2} x_{1,3} e^{- 2 w_{0} x_{1,0} - 2 w_{1} x_{1,1} - 2 w_{2} x_{1,2} - 2 w_{3} x_{1,3}}}{\\left(e^{- w_{0} x_{1,0} - w_{1} x_{1,1} - w_{2} x_{1,2} - w_{3} x_{1,3}} + 1.0\\right)^{3}}\\right) + \\left(\\frac{1.0 c_{0} x_{0,2} e^{- w_{0} x_{0,0} - w_{1} x_{0,1} - w_{2} x_{0,2} - w_{3} x_{0,3}}}{\\left(e^{- w_{0} x_{0,0} - w_{1} x_{0,1} - w_{2} x_{0,2} - w_{3} x_{0,3}} + 1.0\\right)^{2}} + \\frac{1.0 c_{1} x_{1,2} e^{- w_{0} x_{1,0} - w_{1} x_{1,1} - w_{2} x_{1,2} - w_{3} x_{1,3}}}{\\left(e^{- w_{0} x_{1,0} - w_{1} x_{1,1} - w_{2} x_{1,2} - w_{3} x_{1,3}} + 1.0\\right)^{2}}\\right) \\left(\\frac{2.0 c_{0} x_{0,3} e^{- w_{0} x_{0,0} - w_{1} x_{0,1} - w_{2} x_{0,2} - w_{3} x_{0,3}}}{\\left(e^{- w_{0} x_{0,0} - w_{1} x_{0,1} - w_{2} x_{0,2} - w_{3} x_{0,3}} + 1.0\\right)^{2}} + \\frac{2.0 c_{1} x_{1,3} e^{- w_{0} x_{1,0} - w_{1} x_{1,1} - w_{2} x_{1,2} - w_{3} x_{1,3}}}{\\left(e^{- w_{0} x_{1,0} - w_{1} x_{1,1} - w_{2} x_{1,2} - w_{3} x_{1,3}} + 1.0\\right)^{2}}\\right)$"
      ],
      "text/plain": [
       "(1.0*c_0/(exp(-w_0*x_{0,0} - w_1*x_{0,1} - w_2*x_{0,2} - w_3*x_{0,3}) + 1.0) + 1.0*c_1/(exp(-w_0*x_{1,0} - w_1*x_{1,1} - w_2*x_{1,2} - w_3*x_{1,3}) + 1.0))*(-2.0*c_0*x_{0,2}*x_{0,3}*exp(-w_0*x_{0,0} - w_1*x_{0,1} - w_2*x_{0,2} - w_3*x_{0,3})/(exp(-w_0*x_{0,0} - w_1*x_{0,1} - w_2*x_{0,2} - w_3*x_{0,3}) + 1.0)**2 + 4.0*c_0*x_{0,2}*x_{0,3}*exp(-2*w_0*x_{0,0} - 2*w_1*x_{0,1} - 2*w_2*x_{0,2} - 2*w_3*x_{0,3})/(exp(-w_0*x_{0,0} - w_1*x_{0,1} - w_2*x_{0,2} - w_3*x_{0,3}) + 1.0)**3 - 2.0*c_1*x_{1,2}*x_{1,3}*exp(-w_0*x_{1,0} - w_1*x_{1,1} - w_2*x_{1,2} - w_3*x_{1,3})/(exp(-w_0*x_{1,0} - w_1*x_{1,1} - w_2*x_{1,2} - w_3*x_{1,3}) + 1.0)**2 + 4.0*c_1*x_{1,2}*x_{1,3}*exp(-2*w_0*x_{1,0} - 2*w_1*x_{1,1} - 2*w_2*x_{1,2} - 2*w_3*x_{1,3})/(exp(-w_0*x_{1,0} - w_1*x_{1,1} - w_2*x_{1,2} - w_3*x_{1,3}) + 1.0)**3) + (1.0*c_0*x_{0,2}*exp(-w_0*x_{0,0} - w_1*x_{0,1} - w_2*x_{0,2} - w_3*x_{0,3})/(exp(-w_0*x_{0,0} - w_1*x_{0,1} - w_2*x_{0,2} - w_3*x_{0,3}) + 1.0)**2 + 1.0*c_1*x_{1,2}*exp(-w_0*x_{1,0} - w_1*x_{1,1} - w_2*x_{1,2} - w_3*x_{1,3})/(exp(-w_0*x_{1,0} - w_1*x_{1,1} - w_2*x_{1,2} - w_3*x_{1,3}) + 1.0)**2)*(2.0*c_0*x_{0,3}*exp(-w_0*x_{0,0} - w_1*x_{0,1} - w_2*x_{0,2} - w_3*x_{0,3})/(exp(-w_0*x_{0,0} - w_1*x_{0,1} - w_2*x_{0,2} - w_3*x_{0,3}) + 1.0)**2 + 2.0*c_1*x_{1,3}*exp(-w_0*x_{1,0} - w_1*x_{1,1} - w_2*x_{1,2} - w_3*x_{1,3})/(exp(-w_0*x_{1,0} - w_1*x_{1,1} - w_2*x_{1,2} - w_3*x_{1,3}) + 1.0)**2)"
      ]
     },
     "execution_count": 70,
     "metadata": {},
     "output_type": "execute_result"
    }
   ],
   "source": [
    "z"
   ]
  },
  {
   "cell_type": "code",
   "execution_count": 6,
   "metadata": {
    "scrolled": true
   },
   "outputs": [
    {
     "data": {
      "text/latex": [
       "$\\displaystyle \\frac{1.0 e^{- x}}{\\left(1.0 + e^{- x}\\right)^{2}}$"
      ],
      "text/plain": [
       "1.0*exp(-x)/(1.0 + exp(-x))**2"
      ]
     },
     "execution_count": 6,
     "metadata": {},
     "output_type": "execute_result"
    }
   ],
   "source": [
    "x=sp.Symbol('x')\n",
    "z=sp.diff(sigmoid(x),x)\n",
    "z"
   ]
  },
  {
   "cell_type": "code",
   "execution_count": 7,
   "metadata": {},
   "outputs": [
    {
     "data": {
      "text/latex": [
       "$\\displaystyle \\frac{1.0 e^{x}}{\\left(1.0 e^{x} + 1\\right)^{2}}$"
      ],
      "text/plain": [
       "1.0*exp(x)/(1.0*exp(x) + 1)**2"
      ]
     },
     "execution_count": 7,
     "metadata": {},
     "output_type": "execute_result"
    }
   ],
   "source": [
    "sp.simplify(z)"
   ]
  },
  {
   "cell_type": "code",
   "execution_count": null,
   "metadata": {},
   "outputs": [],
   "source": []
  }
 ],
 "metadata": {
  "kernelspec": {
   "display_name": "Python 3",
   "language": "python",
   "name": "python3"
  },
  "language_info": {
   "codemirror_mode": {
    "name": "ipython",
    "version": 3
   },
   "file_extension": ".py",
   "mimetype": "text/x-python",
   "name": "python",
   "nbconvert_exporter": "python",
   "pygments_lexer": "ipython3",
   "version": "3.7.9"
  }
 },
 "nbformat": 4,
 "nbformat_minor": 4
}
