{
 "cells": [
  {
   "cell_type": "code",
   "execution_count": 1,
   "metadata": {},
   "outputs": [],
   "source": [
    "import sympy as sp\n",
    "from math import exp\n",
    "\n",
    "e=sp.Symbol('e')\n",
    "\n",
    "def sigmoid(x):\n",
    "\treturn 1.0/(1.0+sp.exp(-x))\n",
    "\n",
    "n=1\n",
    "x=[sp.Symbol(f'x_{i}') for i in range(0,3)]\n",
    "s=[sp.Symbol(f's_{i}') for i in range(0,3)]\n",
    "w=sp.Symbol('w')\n",
    "\n",
    "u1=sum([sigmoid(w*x[i])*(1-s[i]) for i in range(0,n)])\n",
    "v1=sum([(1-s[i]) for i in range(0,n)])\n",
    "\n",
    "u2=sum([sigmoid(w*x[i])*s[i] for i in range(0,n)])\n",
    "v2=sum([s[i] for i in range(0,n)])"
   ]
  },
  {
   "cell_type": "code",
   "execution_count": 2,
   "metadata": {},
   "outputs": [],
   "source": [
    "P=(u1/v1+u2/v2)**2"
   ]
  },
  {
   "cell_type": "code",
   "execution_count": 3,
   "metadata": {},
   "outputs": [],
   "source": [
    "dP=sp.diff(P,w)"
   ]
  },
  {
   "cell_type": "code",
   "execution_count": 4,
   "metadata": {},
   "outputs": [
    {
     "data": {
      "text/latex": [
       "$\\displaystyle \\frac{8.0 x_{0} e^{- w x_{0}}}{\\left(1.0 + e^{- w x_{0}}\\right)^{3}}$"
      ],
      "text/plain": [
       "8.0*x_0*exp(-w*x_0)/(1.0 + exp(-w*x_0))**3"
      ]
     },
     "execution_count": 4,
     "metadata": {},
     "output_type": "execute_result"
    }
   ],
   "source": [
    "dP"
   ]
  },
  {
   "cell_type": "code",
   "execution_count": 10,
   "metadata": {},
   "outputs": [
    {
     "data": {
      "text/latex": [
       "$\\displaystyle \\frac{2.0 \\left(\\left(s_{0} + s_{1}\\right) \\left(\\left(s_{0} - 1\\right) \\left(1.0 e^{w x_{1}} + 1\\right) e^{w x_{0}} + \\left(s_{1} - 1\\right) \\left(1.0 e^{w x_{0}} + 1\\right) e^{w x_{1}}\\right) + \\left(s_{0} \\left(1.0 e^{w x_{1}} + 1\\right) e^{w x_{0}} + s_{1} \\left(1.0 e^{w x_{0}} + 1\\right) e^{w x_{1}}\\right) \\left(s_{0} + s_{1} - 2\\right)\\right) \\left(\\left(s_{0} + s_{1}\\right) \\left(x_{0} \\left(s_{0} - 1\\right) \\left(1.0 e^{w x_{1}} + 1\\right)^{2} e^{w x_{0}} + x_{1} \\left(s_{1} - 1\\right) \\left(1.0 e^{w x_{0}} + 1\\right)^{2} e^{w x_{1}}\\right) + \\left(s_{0} x_{0} \\left(1.0 e^{w x_{1}} + 1\\right)^{2} e^{w x_{0}} + s_{1} x_{1} \\left(1.0 e^{w x_{0}} + 1\\right)^{2} e^{w x_{1}}\\right) \\left(s_{0} + s_{1} - 2\\right)\\right)}{\\left(s_{0} + s_{1}\\right)^{2} \\left(1.0 e^{w x_{0}} + 1\\right)^{3} \\left(1.0 e^{w x_{1}} + 1\\right)^{3} \\left(s_{0} + s_{1} - 2\\right)^{2}}$"
      ],
      "text/plain": [
       "2.0*((s_0 + s_1)*((s_0 - 1)*(1.0*exp(w*x_1) + 1)*exp(w*x_0) + (s_1 - 1)*(1.0*exp(w*x_0) + 1)*exp(w*x_1)) + (s_0*(1.0*exp(w*x_1) + 1)*exp(w*x_0) + s_1*(1.0*exp(w*x_0) + 1)*exp(w*x_1))*(s_0 + s_1 - 2))*((s_0 + s_1)*(x_0*(s_0 - 1)*(1.0*exp(w*x_1) + 1)**2*exp(w*x_0) + x_1*(s_1 - 1)*(1.0*exp(w*x_0) + 1)**2*exp(w*x_1)) + (s_0*x_0*(1.0*exp(w*x_1) + 1)**2*exp(w*x_0) + s_1*x_1*(1.0*exp(w*x_0) + 1)**2*exp(w*x_1))*(s_0 + s_1 - 2))/((s_0 + s_1)**2*(1.0*exp(w*x_0) + 1)**3*(1.0*exp(w*x_1) + 1)**3*(s_0 + s_1 - 2)**2)"
      ]
     },
     "execution_count": 10,
     "metadata": {},
     "output_type": "execute_result"
    }
   ],
   "source": [
    "sp.simplify(dP)"
   ]
  },
  {
   "cell_type": "code",
   "execution_count": null,
   "metadata": {},
   "outputs": [],
   "source": []
  }
 ],
 "metadata": {
  "kernelspec": {
   "display_name": "Python 3",
   "language": "python",
   "name": "python3"
  },
  "language_info": {
   "codemirror_mode": {
    "name": "ipython",
    "version": 3
   },
   "file_extension": ".py",
   "mimetype": "text/x-python",
   "name": "python",
   "nbconvert_exporter": "python",
   "pygments_lexer": "ipython3",
   "version": "3.7.9"
  }
 },
 "nbformat": 4,
 "nbformat_minor": 4
}
