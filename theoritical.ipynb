{
 "cells": [
  {
   "cell_type": "code",
   "execution_count": 65,
   "metadata": {},
   "outputs": [],
   "source": [
    "import sympy as sp\n",
    "from math import exp\n",
    "\n",
    "e=sp.Symbol('e')\n",
    "\n",
    "def sigmoid(x):\n",
    "\treturn 1.0/(1.0+sp.exp(-x))\n",
    "\n",
    "n=2\n",
    "x=[sp.Symbol(f'x_{i}') for i in range(0,n)]\n",
    "y=[sp.Symbol(f'y_{i}') for i in range(0,n)]\n",
    "c=[sp.Symbol(f'c_{i}') for i in range(0,n)]\n",
    "\n",
    "w=sp.Symbol('w') \n",
    "\n",
    "u1=sum([sigmoid(w*x[i])*s_0[i]*y[i] for i in range(0,n)])\n",
    "v1=sum([s_0[i]*y[i] for i in range(0,n)])\n",
    "\n",
    "u2=sum([sigmoid(w*x[i])*s_1[i]*y[i] for i in range(0,n)])\n",
    "v2=sum([s_1[i]*y[i] for i in range(0,n)])"
   ]
  },
  {
   "cell_type": "code",
   "execution_count": 66,
   "metadata": {},
   "outputs": [],
   "source": [
    "P=(u1/v1+u2/v2)**2"
   ]
  },
  {
   "cell_type": "code",
   "execution_count": 67,
   "metadata": {},
   "outputs": [],
   "source": [
    "dP=sp.diff(P,w)"
   ]
  },
  {
   "cell_type": "code",
   "execution_count": 68,
   "metadata": {},
   "outputs": [
    {
     "data": {
      "text/latex": [
       "$\\displaystyle \\left(\\frac{\\frac{1.0 s_{0} y_{0}}{1.0 + e^{- w x_{0}}} + \\frac{1.0 s_{1} y_{1}}{1.0 + e^{- w x_{1}}}}{s_{0} y_{0} + s_{1} y_{1}} + \\frac{\\frac{1.0 (1-s_{0}) y_{0}}{1.0 + e^{- w x_{0}}} + \\frac{1.0 (1-s_{1}) y_{1}}{1.0 + e^{- w x_{1}}}}{(1-s_{0}) y_{0} + (1-s_{1}) y_{1}}\\right) \\left(\\frac{2 \\left(\\frac{1.0 s_{0} x_{0} y_{0} e^{- w x_{0}}}{\\left(1.0 + e^{- w x_{0}}\\right)^{2}} + \\frac{1.0 s_{1} x_{1} y_{1} e^{- w x_{1}}}{\\left(1.0 + e^{- w x_{1}}\\right)^{2}}\\right)}{s_{0} y_{0} + s_{1} y_{1}} + \\frac{2 \\left(\\frac{1.0 (1-s_{0}) x_{0} y_{0} e^{- w x_{0}}}{\\left(1.0 + e^{- w x_{0}}\\right)^{2}} + \\frac{1.0 (1-s_{1}) x_{1} y_{1} e^{- w x_{1}}}{\\left(1.0 + e^{- w x_{1}}\\right)^{2}}\\right)}{(1-s_{0}) y_{0} + (1-s_{1}) y_{1}}\\right)$"
      ],
      "text/plain": [
       "((1.0*s_0*y_0/(1.0 + exp(-w*x_0)) + 1.0*s_1*y_1/(1.0 + exp(-w*x_1)))/(s_0*y_0 + s_1*y_1) + (1.0*(1-s_{0})*y_0/(1.0 + exp(-w*x_0)) + 1.0*(1-s_{1})*y_1/(1.0 + exp(-w*x_1)))/((1-s_{0})*y_0 + (1-s_{1})*y_1))*(2*(1.0*s_0*x_0*y_0*exp(-w*x_0)/(1.0 + exp(-w*x_0))**2 + 1.0*s_1*x_1*y_1*exp(-w*x_1)/(1.0 + exp(-w*x_1))**2)/(s_0*y_0 + s_1*y_1) + 2*(1.0*(1-s_{0})*x_0*y_0*exp(-w*x_0)/(1.0 + exp(-w*x_0))**2 + 1.0*(1-s_{1})*x_1*y_1*exp(-w*x_1)/(1.0 + exp(-w*x_1))**2)/((1-s_{0})*y_0 + (1-s_{1})*y_1))"
      ]
     },
     "execution_count": 68,
     "metadata": {},
     "output_type": "execute_result"
    }
   ],
   "source": [
    "dP"
   ]
  },
  {
   "cell_type": "code",
   "execution_count": 5,
   "metadata": {},
   "outputs": [],
   "source": [
    "import sympy as sp\n",
    "from math import exp\n",
    "\n",
    "e=sp.Symbol('e')\n",
    "\n",
    "def sigmoid(x):\n",
    "\treturn 1.0/(1.0+sp.exp(-x))\n",
    "\n",
    "n=2\n",
    "x=[sp.Symbol(f'x_{i}') for i in range(0,n)]\n",
    "y=[sp.Symbol(f'y_{i}') for i in range(0,n)]\n",
    "s=[sp.Symbol(f's_{i}') for i in range(0,n)]\n",
    "w=sp.Symbol('w')"
   ]
  },
  {
   "cell_type": "code",
   "execution_count": 6,
   "metadata": {},
   "outputs": [],
   "source": [
    "Q=sum([\n",
    "    ((y[i]-sigmoid(w*x[i]))*w)**2 for i in range(0,n)\n",
    "])/n"
   ]
  },
  {
   "cell_type": "code",
   "execution_count": 7,
   "metadata": {},
   "outputs": [],
   "source": [
    "dQ=sp.diff(Q,w)"
   ]
  },
  {
   "cell_type": "code",
   "execution_count": 8,
   "metadata": {},
   "outputs": [
    {
     "data": {
      "text/latex": [
       "$\\displaystyle - \\frac{1.0 w^{2} x_{0} \\left(y_{0} - \\frac{1.0}{1.0 + e^{- w x_{0}}}\\right) e^{- w x_{0}}}{\\left(1.0 + e^{- w x_{0}}\\right)^{2}} - \\frac{1.0 w^{2} x_{1} \\left(y_{1} - \\frac{1.0}{1.0 + e^{- w x_{1}}}\\right) e^{- w x_{1}}}{\\left(1.0 + e^{- w x_{1}}\\right)^{2}} + w \\left(y_{0} - \\frac{1.0}{1.0 + e^{- w x_{0}}}\\right)^{2} + w \\left(y_{1} - \\frac{1.0}{1.0 + e^{- w x_{1}}}\\right)^{2}$"
      ],
      "text/plain": [
       "-1.0*w**2*x_0*(y_0 - 1.0/(1.0 + exp(-w*x_0)))*exp(-w*x_0)/(1.0 + exp(-w*x_0))**2 - 1.0*w**2*x_1*(y_1 - 1.0/(1.0 + exp(-w*x_1)))*exp(-w*x_1)/(1.0 + exp(-w*x_1))**2 + w*(y_0 - 1.0/(1.0 + exp(-w*x_0)))**2 + w*(y_1 - 1.0/(1.0 + exp(-w*x_1)))**2"
      ]
     },
     "execution_count": 8,
     "metadata": {},
     "output_type": "execute_result"
    }
   ],
   "source": [
    "dQ"
   ]
  },
  {
   "cell_type": "code",
   "execution_count": null,
   "metadata": {},
   "outputs": [],
   "source": []
  }
 ],
 "metadata": {
  "kernelspec": {
   "display_name": "Python 3",
   "language": "python",
   "name": "python3"
  },
  "language_info": {
   "codemirror_mode": {
    "name": "ipython",
    "version": 3
   },
   "file_extension": ".py",
   "mimetype": "text/x-python",
   "name": "python",
   "nbconvert_exporter": "python",
   "pygments_lexer": "ipython3",
   "version": "3.7.9"
  }
 },
 "nbformat": 4,
 "nbformat_minor": 4
}
